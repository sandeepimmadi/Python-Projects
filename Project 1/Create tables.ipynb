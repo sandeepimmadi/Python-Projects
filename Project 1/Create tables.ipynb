{
 "cells": [
  {
   "cell_type": "code",
   "execution_count": 2,
   "metadata": {},
   "outputs": [
    {
     "name": "stdout",
     "output_type": "stream",
     "text": [
      "Collecting tabulate\n",
      "  Downloading tabulate-0.8.9-py3-none-any.whl (25 kB)\n",
      "Installing collected packages: tabulate\n",
      "Successfully installed tabulate-0.8.9\n",
      "Note: you may need to restart the kernel to use updated packages.\n"
     ]
    }
   ],
   "source": [
    "pip install tabulate"
   ]
  },
  {
   "cell_type": "code",
   "execution_count": 7,
   "metadata": {},
   "outputs": [
    {
     "name": "stdout",
     "output_type": "stream",
     "text": [
      "--------  ---------  ------\n",
      "Name      Place      Gender\n",
      "Sandy     New Delhi  Male\n",
      "Harshini  New Delhi  Female\n",
      "Krishna   UP         Male\n",
      "--------  ---------  ------\n"
     ]
    }
   ],
   "source": [
    "from tabulate import tabulate\n",
    "data = [[\"Name\", \"Place\", \"Gender\"], [\"Sandy\", \"New Delhi\", \"Male\"], [\"Harshini\", \"New Delhi\", \"Female\"], [\"Krishna\", \"UP\", \"Male\"]]\n",
    "print(tabulate(data))"
   ]
  },
  {
   "cell_type": "code",
   "execution_count": 8,
   "metadata": {},
   "outputs": [
    {
     "name": "stdout",
     "output_type": "stream",
     "text": [
      "Name      Place      Gender\n",
      "--------  ---------  --------\n",
      "Sandy     New Delhi  Male\n",
      "Harshini  New Delhi  Female\n",
      "Krishna   UP         Male\n"
     ]
    }
   ],
   "source": [
    "print(tabulate(data, headers='firstrow'))"
   ]
  },
  {
   "cell_type": "code",
   "execution_count": 9,
   "metadata": {},
   "outputs": [
    {
     "name": "stdout",
     "output_type": "stream",
     "text": [
      "+----------+-----------+----------+\n",
      "| Name     | Place     | Gender   |\n",
      "+==========+===========+==========+\n",
      "| Sandy    | New Delhi | Male     |\n",
      "+----------+-----------+----------+\n",
      "| Harshini | New Delhi | Female   |\n",
      "+----------+-----------+----------+\n",
      "| Krishna  | UP        | Male     |\n",
      "+----------+-----------+----------+\n"
     ]
    }
   ],
   "source": [
    "print(tabulate(data, headers='firstrow', tablefmt='grid'))"
   ]
  },
  {
   "cell_type": "code",
   "execution_count": 10,
   "metadata": {},
   "outputs": [
    {
     "name": "stdout",
     "output_type": "stream",
     "text": [
      "╒══════════╤═══════════╤══════════╕\n",
      "│ Name     │ Place     │ Gender   │\n",
      "╞══════════╪═══════════╪══════════╡\n",
      "│ Sandy    │ New Delhi │ Male     │\n",
      "├──────────┼───────────┼──────────┤\n",
      "│ Harshini │ New Delhi │ Female   │\n",
      "├──────────┼───────────┼──────────┤\n",
      "│ Krishna  │ UP        │ Male     │\n",
      "╘══════════╧═══════════╧══════════╛\n"
     ]
    }
   ],
   "source": [
    "print(tabulate(data, headers='firstrow', tablefmt='fancy_grid'))"
   ]
  },
  {
   "cell_type": "code",
   "execution_count": null,
   "metadata": {},
   "outputs": [],
   "source": []
  }
 ],
 "metadata": {
  "kernelspec": {
   "display_name": "Python 3",
   "language": "python",
   "name": "python3"
  },
  "language_info": {
   "codemirror_mode": {
    "name": "ipython",
    "version": 3
   },
   "file_extension": ".py",
   "mimetype": "text/x-python",
   "name": "python",
   "nbconvert_exporter": "python",
   "pygments_lexer": "ipython3",
   "version": "3.8.5"
  }
 },
 "nbformat": 4,
 "nbformat_minor": 4
}
