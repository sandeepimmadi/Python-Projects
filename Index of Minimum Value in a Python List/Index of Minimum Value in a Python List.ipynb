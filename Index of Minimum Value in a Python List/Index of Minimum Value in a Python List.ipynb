{
 "cells": [
  {
   "cell_type": "code",
   "execution_count": 11,
   "metadata": {},
   "outputs": [
    {
     "name": "stdout",
     "output_type": "stream",
     "text": [
      "6\n"
     ]
    }
   ],
   "source": [
    "def minimum(x):\n",
    "    minimum_index = 0\n",
    "    current_index = 1\n",
    "    while current_index < len(x):\n",
    "        if x[current_index] < x[minimum_index]:\n",
    "            minimum_index = current_index\n",
    "        current_index = current_index + 1\n",
    "    return minimum_index\n",
    "a = [23, 76, 45, 20, 70, 65, 15, 54]\n",
    "print(minimum(a))"
   ]
  }
 ],
 "metadata": {
  "kernelspec": {
   "display_name": "Python 3",
   "language": "python",
   "name": "python3"
  },
  "language_info": {
   "codemirror_mode": {
    "name": "ipython",
    "version": 3
   },
   "file_extension": ".py",
   "mimetype": "text/x-python",
   "name": "python",
   "nbconvert_exporter": "python",
   "pygments_lexer": "ipython3",
   "version": "3.8.5"
  }
 },
 "nbformat": 4,
 "nbformat_minor": 4
}
